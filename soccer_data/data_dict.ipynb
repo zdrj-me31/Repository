{
 "cells": [
  {
   "attachments": {},
   "cell_type": "markdown",
   "metadata": {},
   "source": [
    "## Data Dictionary\n",
    "| Column    | Explanation                                   |\n",
    "| --------- | --------------------------------------------- |\n",
    "| Div       | Division the game was played in               |                            \n",
    "| Date      | The date the game was played                  |\n",
    "| HomeTeam  | The home team                                 |\n",
    "| AwayTeam  | The away team                                 |\n",
    "| FTHG      | Full time home goals                          |\n",
    "| FTAG      | Full time away goals                          |\n",
    "| FTR       | Full time result                              |\n",
    "| HTHG      | Half time home goals                          |\n",
    "| HTAG      | Half time away goals                          |\n",
    "| HTR       | Half time result                              |\n",
    "| Referee   | The referee of the game                       |\n",
    "| HS        | Number of shots taken by home team            |\n",
    "| AS        | Number of shots taken by away team            |\n",
    "| HST       | Number of shots taken by home team on target  |\n",
    "| AST       | Number of shots taken by away team on target  |\n",
    "| HF        | Number of fouls made by home team             |\n",
    "| AF        | Number of fouls made by away team             |\n",
    "| HC        | Number of corners taken by home team          |\n",
    "| AC        | Number of corners taken by away team          |\n",
    "| HY        | Number of yellow cards received by home team  |\n",
    "| AY        | Number of yellow cards received by away team  |\n",
    "| HR        | Number of red cards received by home team     |\n",
    "| AR        | Number of red cards received by away team     |"
   ]
  },
  {
   "cell_type": "markdown",
   "metadata": {},
   "source": []
  }
 ],
 "metadata": {
  "kernelspec": {
   "display_name": "py",
   "language": "python",
   "name": "python3"
  },
  "language_info": {
   "codemirror_mode": {
    "name": "ipython",
    "version": 3
   },
   "file_extension": ".py",
   "mimetype": "text/x-python",
   "name": "python",
   "nbconvert_exporter": "python",
   "pygments_lexer": "ipython3",
   "version": "3.10.9"
  },
  "orig_nbformat": 4,
  "vscode": {
   "interpreter": {
    "hash": "7273717ea6461c0bc83847a5ac79f99492ac89b0ef4370e7e173b46b2b03cc18"
   }
  }
 },
 "nbformat": 4,
 "nbformat_minor": 2
}
