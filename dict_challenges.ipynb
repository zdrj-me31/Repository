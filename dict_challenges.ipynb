{
 "cells": [
  {
   "cell_type": "markdown",
   "metadata": {},
   "source": [
    "#### First Challenge"
   ]
  },
  {
   "cell_type": "markdown",
   "metadata": {},
   "source": [
    "1. Sum values."
   ]
  },
  {
   "cell_type": "code",
   "execution_count": 97,
   "metadata": {},
   "outputs": [
    {
     "name": "stdout",
     "output_type": "stream",
     "text": [
      "10\n"
     ]
    }
   ],
   "source": [
    "def sum_values(my_dict):\n",
    "    return sum(my_dict.values())\n",
    "\n",
    "# testing\n",
    "dict_example = {'milk': 5, 'eggs': 2, 'flour': 3}\n",
    "print(sum_values(dict_example))"
   ]
  },
  {
   "cell_type": "markdown",
   "metadata": {},
   "source": [
    "2. Even values"
   ]
  },
  {
   "cell_type": "code",
   "execution_count": 98,
   "metadata": {},
   "outputs": [
    {
     "name": "stdout",
     "output_type": "stream",
     "text": [
      "2\n"
     ]
    }
   ],
   "source": [
    "def sum_even_keys(my_dict):\n",
    "    return sum(v for k, v in my_dict.items() if k % 2 == 0)\n",
    "\n",
    "# testing\n",
    "print(sum_even_keys({1:5, 2:2, 3:3}))"
   ]
  },
  {
   "cell_type": "markdown",
   "metadata": {},
   "source": [
    "3. Adding ten"
   ]
  },
  {
   "cell_type": "code",
   "execution_count": 99,
   "metadata": {},
   "outputs": [
    {
     "name": "stdout",
     "output_type": "stream",
     "text": [
      "{1: 15, 2: 12, 3: 13}\n"
     ]
    }
   ],
   "source": [
    "def add_ten(my_dict):\n",
    "    for key in my_dict:\n",
    "        my_dict[key] += 10\n",
    "    return my_dict\n",
    "\n",
    "# TESTING\n",
    "print(add_ten({1:5, 2:2, 3:3}))\n"
   ]
  },
  {
   "cell_type": "markdown",
   "metadata": {},
   "source": [
    "4. Values that are keys."
   ]
  },
  {
   "cell_type": "code",
   "execution_count": 100,
   "metadata": {},
   "outputs": [
    {
     "name": "stdout",
     "output_type": "stream",
     "text": [
      "[1, 4]\n",
      "['a']\n"
     ]
    }
   ],
   "source": [
    "def values_that_are_keys(my_dict):\n",
    "    return [value for value in my_dict.values()\n",
    "            if value in my_dict.keys()]\n",
    "\n",
    "# Testing\n",
    "print(values_that_are_keys({1:100, 2:1, 3:4, 4:10}))\n",
    "print(values_that_are_keys({\"a\":\"apple\", \"b\":\"a\", \"c\":100}))"
   ]
  },
  {
   "cell_type": "markdown",
   "metadata": {},
   "source": [
    "5. Largest value"
   ]
  },
  {
   "cell_type": "code",
   "execution_count": 101,
   "metadata": {},
   "outputs": [
    {
     "name": "stdout",
     "output_type": "stream",
     "text": [
      "1\n"
     ]
    }
   ],
   "source": [
    "def max_key(my_dictionary):\n",
    "    \"\"\"Returns the key associated wuth\n",
    "    the largest value in the dictionary\"\"\"\n",
    "    largest_key = 0\n",
    "    largest_value = 0\n",
    "    for key, value in my_dictionary.items():\n",
    "        if value > largest_value:\n",
    "            largest_key = key\n",
    "            largest_value = value\n",
    "    return largest_key\n",
    "\n",
    "print(max_key({1:100, 2:1, 3:4, 4:10}))"
   ]
  },
  {
   "cell_type": "code",
   "execution_count": 102,
   "metadata": {},
   "outputs": [
    {
     "name": "stdout",
     "output_type": "stream",
     "text": [
      "Help on function max_key in module __main__:\n",
      "\n",
      "max_key(my_dictionary)\n",
      "    Returns the key associated wuth\n",
      "    the largest value in the dictionary\n",
      "\n"
     ]
    }
   ],
   "source": [
    "help(max_key)"
   ]
  },
  {
   "cell_type": "code",
   "execution_count": 103,
   "metadata": {},
   "outputs": [
    {
     "name": "stdout",
     "output_type": "stream",
     "text": [
      "3\n",
      "Help on function greater_than_ten in module __main__:\n",
      "\n",
      "greater_than_ten(my_dict, number)\n",
      "    Counts number of values in dict that are above given number.\n",
      "\n"
     ]
    }
   ],
   "source": [
    "def greater_than_ten(my_dict, number):\n",
    "    \"\"\"Counts number of values in dict that are above given number. \"\"\"\n",
    "    count = 0\n",
    "    for value in my_dict.values():\n",
    "        if value > number:\n",
    "            count += 1\n",
    "    return count\n",
    "\n",
    "# testing \n",
    "print(greater_than_ten({\"a\":1, \"b\":2, \"c\":3}, 0))\n",
    "help(greater_than_ten)"
   ]
  },
  {
   "cell_type": "code",
   "execution_count": 104,
   "metadata": {},
   "outputs": [
    {
     "name": "stdout",
     "output_type": "stream",
     "text": [
      "{'apple': 5, 'dog': 3, 'cat': 3}\n"
     ]
    }
   ],
   "source": [
    "def word_length_dictionary(words):\n",
    "    return {word: len(word) for word in words}\n",
    "\n",
    "print(word_length_dictionary([\"apple\", \"dog\", \"cat\"]))\n"
   ]
  },
  {
   "cell_type": "code",
   "execution_count": 105,
   "metadata": {},
   "outputs": [
    {
     "name": "stdout",
     "output_type": "stream",
     "text": [
      "{'apple': 2, 'cat': 1, 1: 1}\n",
      "{0: 5}\n"
     ]
    }
   ],
   "source": [
    "def frequency_dictionary(words):\n",
    "    new_dict = {}\n",
    "    for word in words:\n",
    "        if word not in new_dict:\n",
    "            new_dict[word] = 0\n",
    "        new_dict[word] += 1\n",
    "    return new_dict\n",
    "\n",
    "\n",
    "def frequency_dictionary_two(words):\n",
    "    frequency_dict = {}\n",
    "    for word in words:\n",
    "        frequency_dict[word] = frequency_dict.get(word, 0) + 1\n",
    "    return frequency_dict\n",
    "\n",
    "def frequency_dictionary_three(words):\n",
    "    return {word: words.count(word) for word in words}\n",
    "\n",
    "# testing\n",
    "print(frequency_dictionary([\"apple\", \"apple\", \"cat\", 1]))\n",
    "print(frequency_dictionary([0,0,0,0,0]))"
   ]
  },
  {
   "cell_type": "code",
   "execution_count": 106,
   "metadata": {},
   "outputs": [
    {
     "name": "stdout",
     "output_type": "stream",
     "text": [
      "1\n"
     ]
    }
   ],
   "source": [
    "\n",
    "def unique_values(my_dict):\n",
    "    unique_values_set = set(my_dict.values())\n",
    "    return len(unique_values_set)\n",
    "\n",
    "def unique_values_three(my_dict):\n",
    "    unique_values_count = len(set(my_dict.values()))\n",
    "    return unique_values_count\n",
    "\n",
    "def unique_values_two(my_dict):\n",
    "    values_lst = []\n",
    "    for value in my_dict.values():\n",
    "        if value not in values_lst:\n",
    "            values_lst.append(value)\n",
    "    return len(values_lst)\n",
    "\n",
    "print(unique_values({0:3, 1:3, 4:3, 5:3}))"
   ]
  },
  {
   "cell_type": "code",
   "execution_count": 107,
   "metadata": {},
   "outputs": [
    {
     "name": "stdout",
     "output_type": "stream",
     "text": [
      "{'S': 7}\n"
     ]
    }
   ],
   "source": [
    "def count_first_letter(names):\n",
    "    letters = {}\n",
    "    for key in names:\n",
    "        first_letter = key[0]\n",
    "        if first_letter not in letters:\n",
    "            letters[first_letter] = 0\n",
    "        letters[first_letter] += len(names[key])\n",
    "    return letters\n",
    "\n",
    "def count_first_letters(names):\n",
    "    first_letter_counts = {}\n",
    "    for last_name, first_name in names.items():\n",
    "        first_letter = last_name[0]\n",
    "        first_letter_counts[first_letter] = first_letter_counts.get(first_letter, 0) + len(first_names)\n",
    "    return first_letter_counts\n",
    "\n",
    "#testing\n",
    "print(count_first_letter({\"Stark\": [\"Ned\", \"Robb\", \"Sansa\"], \"Snow\" : [\"Jon\"], \"Sannister\": [\"Jaime\", \"Cersei\", \"Tywin\"]}))\n"
   ]
  },
  {
   "cell_type": "code",
   "execution_count": 108,
   "metadata": {},
   "outputs": [
    {
     "name": "stdout",
     "output_type": "stream",
     "text": [
      "{'S': 4, 'L': 3}\n"
     ]
    }
   ],
   "source": [
    "def count_first_letter(names):\n",
    "    first_letter_counts = {}\n",
    "    for last_name, first_names in names.items():\n",
    "        first_letter = last_name[0]\n",
    "        if first_letter not in first_letter_counts:\n",
    "            first_letter_counts[first_letter] = 0\n",
    "        first_letter_counts[first_letter] += len(first_names)\n",
    "    return first_letter_counts\n",
    "\n",
    "\n",
    "# testing\n",
    "print(count_first_letter({\"Stark\": [\"Ned\", \"Robb\", \"Sansa\"], \"Snow\" : [\"Jon\"], \"Lannister\": [\"Jaime\", \"Cersei\", \"Tywin\"]}))"
   ]
  },
  {
   "cell_type": "markdown",
   "metadata": {},
   "source": [
    "#### Classes challenges\n"
   ]
  },
  {
   "cell_type": "code",
   "execution_count": 109,
   "metadata": {},
   "outputs": [
    {
     "name": "stdout",
     "output_type": "stream",
     "text": [
      "50\n"
     ]
    }
   ],
   "source": [
    "class Rectangle:\n",
    "    sides = 4\n",
    "    \n",
    "    def __init__(self, width=0, height=0):\n",
    "        self.width = width\n",
    "        self.height = height \n",
    "    \n",
    "    def calculate_area(self):\n",
    "        return self.width * self.height\n",
    "    \n",
    "rectangle_1 = Rectangle(5, 10)\n",
    "rect_area = rectangle_1.calculate_area()\n",
    "print(rect_area)"
   ]
  },
  {
   "cell_type": "code",
   "execution_count": 110,
   "metadata": {},
   "outputs": [
    {
     "name": "stdout",
     "output_type": "stream",
     "text": [
      "Robot1\n",
      "5\n",
      "10\n",
      "90\n",
      "-----\n",
      "10\n",
      "20\n",
      "180\n",
      "\n",
      "Robot 2\n",
      "35\n",
      "25\n",
      "75\n"
     ]
    }
   ],
   "source": [
    "class DriveBot:\n",
    "    all_disabled = False\n",
    "    latitude = -999999\n",
    "    longtitude = -999999\n",
    "    robot_count = 0\n",
    "        \n",
    "    def __init__(self, motor_speed = 0, direction = 180, sensor_range= 10):\n",
    "        self.motor_speed = motor_speed\n",
    "        self.direction = direction\n",
    "        self.sensor_range = sensor_range\n",
    "        DriveBot.robot_count += 1\n",
    "        self.id = DriveBot.robot_count\n",
    "        \n",
    "        \n",
    "    def control_bot(self, new_speed, new_direction):\n",
    "        self.motor_speed = new_speed\n",
    "        self.direction = new_direction\n",
    "        \n",
    "    def adjust_sensor(self, new_sensor_range):\n",
    "        self.sensor_range = new_sensor_range\n",
    "        \n",
    "\n",
    "        \n",
    "robot_1 = DriveBot()\n",
    "robot_1.motor_speed = 5\n",
    "robot_1.direction = 90\n",
    "robot_1.sensor_range = 10\n",
    "\n",
    "robot_2 = DriveBot()\n",
    "robot_2.motor_speed = 35\n",
    "robot_2.direction = 75\n",
    "robot_2.sensor_range = 25\n",
    "\n",
    "print('Robot1')\n",
    "\n",
    "print(robot_1.motor_speed)\n",
    "print(robot_1.sensor_range)\n",
    "print(robot_1.direction)\n",
    "print('-----')\n",
    "# or \n",
    "testin_bot = DriveBot()\n",
    "testin_bot.motor_speed = 10\n",
    "\n",
    "robot_1.control_bot(10, 180)\n",
    "robot_1.adjust_sensor(20)\n",
    "print(robot_1.motor_speed)\n",
    "print(robot_1.sensor_range)\n",
    "print(robot_1.direction)\n",
    "\n",
    "print('\\nRobot 2')\n",
    "print(robot_2.motor_speed)\n",
    "print(robot_2.sensor_range)\n",
    "print(robot_2.direction)"
   ]
  },
  {
   "cell_type": "code",
   "execution_count": 111,
   "metadata": {},
   "outputs": [
    {
     "name": "stdout",
     "output_type": "stream",
     "text": [
      "-50.0\n",
      "50\n",
      "True\n",
      "5\n",
      "6\n",
      "7\n"
     ]
    }
   ],
   "source": [
    "robot_3 = DriveBot(20, 60, 10)\n",
    "\n",
    "\n",
    "DriveBot.longitude = 50\n",
    "DriveBot.latitude = -50.0\n",
    "DriveBot.all_disabled = True\n",
    "\n",
    "print(robot_1.latitude)\n",
    "print(robot_2.longitude)\n",
    "print(robot_3.all_disabled)\n",
    "\n",
    "robot_1 = DriveBot()\n",
    "robot_1.motor_speed = 5\n",
    "robot_1.direction = 90\n",
    "robot_1.sensor_range = 10\n",
    "\n",
    "robot_2 = DriveBot(35, 75, 25)\n",
    "robot_3 = DriveBot(20, 60, 10)\n",
    "\n",
    "print(robot_1.id)\n",
    "print(robot_2.id)\n",
    "print(robot_3.id)\n",
    "\n",
    "\n"
   ]
  },
  {
   "cell_type": "code",
   "execution_count": null,
   "metadata": {},
   "outputs": [],
   "source": []
  }
 ],
 "metadata": {
  "kernelspec": {
   "display_name": "py",
   "language": "python",
   "name": "python3"
  },
  "language_info": {
   "codemirror_mode": {
    "name": "ipython",
    "version": 3
   },
   "file_extension": ".py",
   "mimetype": "text/x-python",
   "name": "python",
   "nbconvert_exporter": "python",
   "pygments_lexer": "ipython3",
   "version": "3.10.9"
  },
  "orig_nbformat": 4
 },
 "nbformat": 4,
 "nbformat_minor": 2
}
